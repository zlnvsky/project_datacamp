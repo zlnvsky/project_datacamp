{
 "cells": [
  {
   "cell_type": "code",
   "execution_count": null,
   "id": "9af4e1ed-4ecc-453f-b384-be9603f51317",
   "metadata": {},
   "outputs": [],
   "source": []
  }
 ],
 "metadata": {
  "kernelspec": {
   "display_name": "",
   "name": ""
  },
  "language_info": {
   "name": ""
  }
 },
 "nbformat": 4,
 "nbformat_minor": 5
}
